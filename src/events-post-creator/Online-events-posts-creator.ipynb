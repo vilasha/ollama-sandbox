{
 "cells": [
  {
   "metadata": {},
   "cell_type": "markdown",
   "source": "# Using local installation of Ollama with Llama3.2 model to generate social media posts for events",
   "id": "324388cbb97d405a"
  },
  {
   "metadata": {},
   "cell_type": "markdown",
   "source": [
    "**Pre-conditions:** Ollama should be installed on your local machine (for more information see the README.md file), so when you type\n",
    "````ollama list````\n",
    "it should show the list of installed models.\n",
    "Run chat in the console with\n",
    "````ollama run llama3.2````\n",
    " to download llama model for the first time.\n",
    "\n",
    "If a package missing (import line gives ModuleNotFoundError), install it with pip (from a console) or from \"Python Packages\" window in the PyCharm.\n",
    "\n",
    "Alternatively you can run the following code directly from this notebook, and it will install missing packages:\n",
    "\n",
    "```\n",
    "import sys\n",
    "!\"{sys.executable}\" -m pip install jupyter ollama ipykernel\n",
    "```"
   ],
   "id": "c612e99d1a7dbc33"
  },
  {
   "metadata": {
    "ExecuteTime": {
     "end_time": "2025-09-20T18:44:13.112359Z",
     "start_time": "2025-09-20T18:44:13.108212Z"
    }
   },
   "cell_type": "code",
   "source": [
    "import ollama\n",
    "import requests\n",
    "from bs4 import BeautifulSoup\n",
    "from IPython.display import Markdown, display"
   ],
   "id": "6e1b0de46d7b3f2",
   "outputs": [],
   "execution_count": 3
  },
  {
   "metadata": {},
   "cell_type": "markdown",
   "source": "***Specify the URL for the website below***",
   "id": "19c3e875ca18e11c"
  },
  {
   "metadata": {
    "ExecuteTime": {
     "end_time": "2025-09-20T18:44:13.140891Z",
     "start_time": "2025-09-20T18:44:13.136183Z"
    }
   },
   "cell_type": "code",
   "source": [
    "WEBSITE_URL = \"https://www.eventbrite.ie/e/techstars-startup-week-guimaraes-tickets-1556700957469?aff=ebdssbdestsearch&keep_tld=1\"\n",
    "LANGUAGE = \"English\"\n",
    "OLLAMA_API = \"http://localhost:11434/api/chat\"\n",
    "MODEL = \"llama3.2\""
   ],
   "id": "62ca174245e0b8f8",
   "outputs": [],
   "execution_count": 4
  },
  {
   "metadata": {},
   "cell_type": "markdown",
   "source": "A class to represent a Webpage",
   "id": "8c8ffa37e782321e"
  },
  {
   "metadata": {
    "ExecuteTime": {
     "end_time": "2025-09-20T18:44:13.177436Z",
     "start_time": "2025-09-20T18:44:13.170355Z"
    }
   },
   "cell_type": "code",
   "source": [
    "# Some websites need you to use proper headers when fetching them:\n",
    "headers = {\n",
    "    \"User-Agent\": \"Mozilla/5.0 (Windows NT 10.0; Win64; x64) AppleWebKit/537.36 (KHTML, like Gecko) Chrome/117.0.0.0 Safari/537.36\"\n",
    "}\n",
    "\n",
    "\n",
    "class Website:\n",
    "\n",
    "    def __init__(self, url):\n",
    "        \"\"\"\n",
    "        Create this Website object from the given url using the BeautifulSoup library\n",
    "        \"\"\"\n",
    "        self.url = url\n",
    "        response = requests.get(url, headers=headers)\n",
    "        soup = BeautifulSoup(response.content, 'html.parser')\n",
    "        self.title = soup.title.string if soup.title else \"No title found\"\n",
    "        for irrelevant in soup.body([\"script\", \"style\", \"img\", \"input\"]):\n",
    "            irrelevant.decompose()\n",
    "        self.text = soup.body.get_text(separator=\"\\n\", strip=True)"
   ],
   "id": "1b1f0251a00e0353",
   "outputs": [],
   "execution_count": 5
  },
  {
   "metadata": {},
   "cell_type": "markdown",
   "source": "Create a system and user prompt",
   "id": "673c929cb430e401"
  },
  {
   "metadata": {
    "ExecuteTime": {
     "end_time": "2025-09-20T18:44:13.212731Z",
     "start_time": "2025-09-20T18:44:13.203239Z"
    }
   },
   "cell_type": "code",
   "source": [
    "# Define system prompt and user prompt for summarization of a Website\n",
    "def messages_summary(website, language):\n",
    "    system_prompt = '''You are an assistant that analyzes the contents of a website \\\n",
    "        and provides a short summary, ignoring text that might be navigation related. \\\n",
    "        Respond in {0} only and format your response correctly in Markdown.'''.format(language)\n",
    "    user_prompt = '''You are looking at a website titled {0}\\n\n",
    "        The contents of this website is as follows; \\\n",
    "        please provide a short summary of this website in markdown. \\\n",
    "        If it includes news or announcements, then summarize these too.\\n\\n\"\n",
    "        {1}'''.format(website.title, website.text)\n",
    "    return [\n",
    "        {\"role\": \"system\", \"content\": system_prompt},\n",
    "        {\"role\": \"user\", \"content\": user_prompt}\n",
    "    ]\n",
    "\n",
    "\n",
    "def messages_post(website_summary, language):\n",
    "    system_prompt = '''You are an assistant that analyzes the contents of an event \\\n",
    "        and provides short summaries for a Twitter post, an Instagram post and a Facebook post.\\\n",
    "        Ensure the summaries are written in {0} and abide by the platform rules \\\n",
    "        for each of the platforms.'''.format(language)\n",
    "    user_prompt = '''The events details are as follows: {0}. Please summarize the above.\\\n",
    "        Capture details like time and location, please capture them as well.'''.format(website_summary)\n",
    "    return [\n",
    "        {\"role\": \"system\", \"content\": system_prompt},\n",
    "        {\"role\": \"user\", \"content\": user_prompt}\n",
    "    ]\n",
    "\n",
    "\n",
    "# Generate a summary of content fetched by scraping the website\n",
    "def summarize(url, language):\n",
    "    website = Website(url)\n",
    "    return ollama.chat(\n",
    "        model=MODEL,\n",
    "        messages=messages_summary(website, language)\n",
    "    ).message.content\n",
    "\n",
    "\n",
    "def write_post(website_summary, language):\n",
    "    return ollama.chat(\n",
    "        model=MODEL,\n",
    "        messages=messages_post(website_summary, language)\n",
    "    ).message.content"
   ],
   "id": "a6efb7d1683d969b",
   "outputs": [],
   "execution_count": 6
  },
  {
   "metadata": {},
   "cell_type": "markdown",
   "source": [
    "4## Main program\n",
    "Depending on your machine might take 1-4 minutes to complete"
   ],
   "id": "244e50f6bb6ba300"
  },
  {
   "metadata": {
    "ExecuteTime": {
     "end_time": "2025-09-20T18:49:12.643056Z",
     "start_time": "2025-09-20T18:44:13.243225Z"
    }
   },
   "cell_type": "code",
   "source": [
    "summary = summarize(WEBSITE_URL, LANGUAGE)\n",
    "post_text = str(write_post(summary, LANGUAGE)).strip()\n",
    "display(Markdown(post_text))"
   ],
   "id": "3b4bb4d293b155cc",
   "outputs": [
    {
     "data": {
      "text/plain": [
       "<IPython.core.display.Markdown object>"
      ],
      "text/markdown": "Here are three social media summaries for the Techstars Startup Week Guimarães event:\n\n**Twitter Post (280 characters)**\nJoin us in Guimarães, Portugal from Oct 13-17! Techstars Startup Week brings entrepreneurs, investors & innovators together to share ideas & grow startups. Tickets available on Eventbrite with a special offer: 50% off + buy 2 get 1 free! #TechstarsGuimarães\n\n**Instagram Post**\nGet ready to connect & innovate in Guimarães, Portugal! Techstars Startup Week is coming up from Oct 13-17 and promises an exciting experience for entrepreneurs, investors, and curious minds. Don't miss out on the opportunity to grow your startup! Tickets available now with a limited-time offer: 50% off + buy 2 get 1 free! Link in bio #TechstarsGuimarães\n\n**Facebook Post**\nCalling all startups & entrepreneurs! Techstars Startup Week Guimarães is just around the corner from Oct 13-17 and we want you to be there! This 3-day event will bring together like-minded individuals to share ideas, learn from each other, and grow your business. Plus, enjoy a special offer: 50% off + buy 2 get 1 free on tickets available now on Eventbrite! Don't miss out on this amazing opportunity! [Link to Eventbrite]\n\nNote: I've kept the Facebook post longer as it's the platform with the longest character limit and allows for more detailed content. The Twitter and Instagram posts are shorter and more concise, while still conveying the essential information about the event."
     },
     "metadata": {},
     "output_type": "display_data"
    }
   ],
   "execution_count": 7
  }
 ],
 "metadata": {
  "kernelspec": {
   "display_name": "Python 3",
   "language": "python",
   "name": "python3"
  },
  "language_info": {
   "codemirror_mode": {
    "name": "ipython",
    "version": 2
   },
   "file_extension": ".py",
   "mimetype": "text/x-python",
   "name": "python",
   "nbconvert_exporter": "python",
   "pygments_lexer": "ipython2",
   "version": "2.7.6"
  }
 },
 "nbformat": 4,
 "nbformat_minor": 5
}
