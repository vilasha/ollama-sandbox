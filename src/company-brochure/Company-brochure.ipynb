{
 "cells": [
  {
   "metadata": {},
   "cell_type": "markdown",
   "source": "# Company brochure",
   "id": "32b3f6aea4882619"
  },
  {
   "metadata": {},
   "cell_type": "markdown",
   "source": [
    "Create a product that builds a Brochure for a company to be used for prospective clients, investors and potential recruits from a company name and LinkedIn page\n",
    "There are 2 calls to LLM: with all the available links from the LinkedIn page we filter only relevant ones; and from content scraped from all the URLs (including main page) assemble a Brochure\n",
    "\n",
    "Outputs in GUI (web browser):\n",
    "![output.png](output.png)"
   ],
   "id": "8c7bf16c3243079c"
  },
  {
   "metadata": {
    "ExecuteTime": {
     "end_time": "2025-10-25T11:01:27.136375Z",
     "start_time": "2025-10-25T11:01:10.811300Z"
    }
   },
   "cell_type": "code",
   "source": [
    "import ollama\n",
    "import requests\n",
    "from bs4 import BeautifulSoup\n",
    "from IPython.display import Markdown, display, update_display\n",
    "from pydantic import BaseModel\n",
    "from urllib.parse import urljoin\n",
    "import time\n",
    "import gradio"
   ],
   "id": "56a13afbc9fa0a3b",
   "outputs": [],
   "execution_count": 1
  },
  {
   "metadata": {},
   "cell_type": "markdown",
   "source": "**Define the model and the Company input**",
   "id": "34a83bcac7ba9853"
  },
  {
   "metadata": {
    "ExecuteTime": {
     "end_time": "2025-10-25T11:01:27.163145Z",
     "start_time": "2025-10-25T11:01:27.152759Z"
    }
   },
   "cell_type": "code",
   "source": [
    "MODELS = {\"qwen2.5:7b\", \"llama3.2:3b\", \"mistral:7b\"}\n",
    "COMPANY_NAME = \"Construo\"\n",
    "COMPANY_WEBSITE = \"https://www.linkedin.com/company/construo-ag\""
   ],
   "id": "ec0597ec7364024e",
   "outputs": [],
   "execution_count": 2
  },
  {
   "metadata": {},
   "cell_type": "markdown",
   "source": "First let's define helper classes",
   "id": "7114949fcc24c53e"
  },
  {
   "metadata": {
    "ExecuteTime": {
     "end_time": "2025-10-25T11:01:27.222585Z",
     "start_time": "2025-10-25T11:01:27.181335Z"
    }
   },
   "cell_type": "code",
   "source": [
    "headers = {\n",
    "    \"User-Agent\": \"Mozilla/5.0 (Windows NT 10.0; Win64; x64) AppleWebKit/537.36 (KHTML, like Gecko) Chrome/117.0.0.0 Safari/537.36\"\n",
    "}\n",
    "\n",
    "\n",
    "class Website:\n",
    "    def __init__(self, url):\n",
    "        self.url = url\n",
    "        try:\n",
    "            response = requests.get(url, headers=headers, timeout=10)\n",
    "            response.raise_for_status()\n",
    "            self.body = response.content\n",
    "        except requests.RequestException as e:\n",
    "            print(f\"❌ Failed to scrape {url}: {e}. Retrying once...\")\n",
    "            time.sleep(2)\n",
    "            try:\n",
    "                response = requests.get(url, headers=headers, timeout=10)\n",
    "                response.raise_for_status()\n",
    "                self.body = response.content\n",
    "            except requests.RequestException as e:\n",
    "                print(f\"❌ Retry failed: {e}. Using empty content.\")\n",
    "                self.body = b\"\"\n",
    "                self.text = \"\"\n",
    "                self.title = \"Failed to load\"\n",
    "                self.links = []\n",
    "                return\n",
    "\n",
    "        soup = BeautifulSoup(self.body, 'html.parser')\n",
    "        self.title = soup.title.string if soup.title else \"No title found\"\n",
    "        if soup.body:\n",
    "            for irrelevant in soup.body([\"script\", \"style\", \"img\", \"input\"]):\n",
    "                irrelevant.decompose()\n",
    "            self.text = soup.body.get_text(separator=\"\\n\", strip=True)\n",
    "        else:\n",
    "            self.text = \"\"\n",
    "        links = [link.get('href') for link in soup.find_all('a') if link.get('href')]\n",
    "        self.links = list(set(urljoin(url, link) for link in links))[:50]  # Dedupe and limit\n",
    "\n",
    "    def get_contents(self):\n",
    "        return f\"Webpage Title:\\n{self.title}\\nWebpage Contents:\\n{self.text}\\n\\n\"\n",
    "\n",
    "\n",
    "class Link(BaseModel):\n",
    "    type: str\n",
    "    url: str\n",
    "\n",
    "\n",
    "class AllLinks(BaseModel):\n",
    "    links: list[Link]\n",
    "\n",
    "\n",
    "def get_links(url, selected_model):\n",
    "    website = Website(url)\n",
    "    response = ollama.chat(\n",
    "        model=selected_model,\n",
    "        messages=[\n",
    "            {\"role\": \"system\", \"content\": link_system_prompt},\n",
    "            {\"role\": \"user\", \"content\": get_links_user_prompt(website)}\n",
    "        ],\n",
    "        format='json'\n",
    "    )\n",
    "    content = response['message']['content'].strip()\n",
    "    try:\n",
    "        return AllLinks.model_validate_json(content)\n",
    "    except Exception as e:\n",
    "        print(f\"⚠️ Failed to parse LLM response: {e}\\nRaw response: {content}\")\n",
    "        return AllLinks(links=[])\n",
    "\n",
    "\n",
    "def get_all_details(url, selected_model):\n",
    "    result = \"Landing page:\\n\"\n",
    "    try:\n",
    "        result += Website(url).get_contents()\n",
    "    except Exception as e:\n",
    "        print(f\"⚠️ Failed to scrape main page: {e}\")\n",
    "        result += \"Main page content unavailable.\\n\\n\"\n",
    "\n",
    "    links = get_links(url, selected_model)\n",
    "    print(\"Found links:\", [f\"{link.type}: {link.url}\" for link in links.links])\n",
    "    for link in links.links:\n",
    "        try:\n",
    "            result += f\"\\n\\n{link.type}\\n\"\n",
    "            result += Website(link.url).get_contents()\n",
    "        except Exception as e:\n",
    "            print(f\"⚠️ Failed to scrape {link.url}: {e}\")\n",
    "            continue\n",
    "    return result"
   ],
   "id": "dcd014d126658500",
   "outputs": [],
   "execution_count": 3
  },
  {
   "metadata": {},
   "cell_type": "markdown",
   "source": "Our system prompt is 1-shot prompt (i.e. it gives 1 example of the output)",
   "id": "31e0494c8c7a559b"
  },
  {
   "metadata": {
    "ExecuteTime": {
     "end_time": "2025-10-25T11:01:27.256733Z",
     "start_time": "2025-10-25T11:01:27.240050Z"
    }
   },
   "cell_type": "code",
   "source": [
    "link_system_prompt = \"\"\"You are provided with a list of links from a company webpage. Identify the most relevant links for a company brochure, such as About, Company, Services, or Careers/Jobs pages. Exclude Terms of Service, Privacy, or email links. Respond in JSON format like this:\n",
    "{\n",
    "  \"links\": [\n",
    "    {\"type\": \"about page\", \"url\": \"https://full.url/goes/here/about\"},\n",
    "    {\"type\": \"careers page\", \"url\": \"https://another.full.url/careers\"}\n",
    "  ]\n",
    "}\n",
    "Return only the JSON object, no extra text.\"\"\"\n",
    "\n",
    "\n",
    "def get_links_user_prompt(website):\n",
    "    return f\"\"\"Here is the list of links on the website of {website.url}. Select relevant links for a company brochure. Use full HTTPS URLs.\n",
    "Links:\n",
    "{\"\\n\".join(website.links)}\n",
    "\"\"\"\n",
    "\n",
    "\n",
    "system_prompt_funny = \"\"\"You are an assistant that analyzes content from a company website and creates a short, humorous, entertaining brochure in markdown for prospective customers, investors, and recruits. Include details on company culture, customers, and careers if available. Use emojis, bullet points, and a fun tone.\"\"\"\n",
    "system_prompt_serious = \"\"\"You are an assistant that analyzes content from a company website and creates a short, yet concise, serious brochure in markdown for prospective customers, investors, and recruits. Include details on company culture, customers, and careers if available. Use emojis, bullet points, and a fun tone.\"\"\"\n",
    "\n",
    "\n",
    "def get_brochure_user_prompt(company_name, url, selected_model):\n",
    "    user_prompt = f\"You are looking at a company called: {company_name}\\n\"\n",
    "    user_prompt += \"Here are the contents of its landing page and relevant pages:\\n\"\n",
    "    user_prompt += get_all_details(url, selected_model)\n",
    "    user_prompt = user_prompt[:5_000]\n",
    "    return user_prompt\n",
    "\n",
    "\n",
    "def stream_brochure(company_name, url, system_prompt_selection, selected_model):\n",
    "    system_prompt = system_prompt_funny if system_prompt_selection == 'Funny' else system_prompt_serious\n",
    "    stream = ollama.chat(\n",
    "        model=selected_model,\n",
    "        messages=[\n",
    "            {\"role\": \"system\", \"content\": system_prompt},\n",
    "            {\"role\": \"user\", \"content\": get_brochure_user_prompt(company_name, url, selected_model)}\n",
    "        ],\n",
    "        stream=True\n",
    "    )\n",
    "    response = \"\"\n",
    "    # display_handle = display(Markdown(\"\"), display_id=True)\n",
    "    for chunk in stream:\n",
    "        if 'message' in chunk and 'content' in chunk['message']:\n",
    "            response += chunk['message']['content'] or ''\n",
    "            response = response.replace(\"```\", \"\").replace(\"markdown\", \"\")\n",
    "            yield response\n",
    "            # update_display(Markdown(response), display_id=display_handle.display_id)"
   ],
   "id": "82b99992871bf66a",
   "outputs": [],
   "execution_count": 4
  },
  {
   "metadata": {},
   "cell_type": "markdown",
   "source": "User interface:",
   "id": "240095f10dff5b36"
  },
  {
   "metadata": {
    "ExecuteTime": {
     "end_time": "2025-10-25T11:01:28.249476Z",
     "start_time": "2025-10-25T11:01:27.273556Z"
    }
   },
   "cell_type": "code",
   "source": [
    "force_dark_mode = \"\"\"\n",
    "function refresh() {\n",
    "    const url = new URL(window.location);\n",
    "    if (url.searchParams.get('__theme') !== 'dark') {\n",
    "        url.searchParams.set('__theme', 'dark');\n",
    "        window.location.href = url.href;\n",
    "    }\n",
    "}\n",
    "\"\"\"\n",
    "view = gradio.Interface(fn=stream_brochure,\n",
    "                        inputs=[gradio.Textbox(label=\"Company name\", value=COMPANY_NAME),\n",
    "                                gradio.Textbox(label=\"Website URL\", value=COMPANY_WEBSITE),\n",
    "                                gradio.Radio(['Funny', 'Serious'], label=\"Select attitude\", value='Funny'),\n",
    "                                gradio.Dropdown(MODELS, label=\"Select model\", value=\"qwen2.5:7b\")],\n",
    "                        outputs=[gradio.Markdown(label=\"Brochure\")],\n",
    "                        flagging_mode=\"never\",\n",
    "                        js=force_dark_mode\n",
    "                        )\n",
    "\n",
    "# stream_brochure(COMPANY_NAME, COMPANY_WEBSITE)"
   ],
   "id": "63afa29493646771",
   "outputs": [],
   "execution_count": 5
  },
  {
   "metadata": {},
   "cell_type": "markdown",
   "source": "Main call",
   "id": "d58bb8f802ab4e17"
  },
  {
   "metadata": {
    "ExecuteTime": {
     "end_time": "2025-10-25T11:01:32.066118Z",
     "start_time": "2025-10-25T11:01:28.298913Z"
    }
   },
   "cell_type": "code",
   "source": "view.launch()",
   "id": "dc3965f369933d56",
   "outputs": [
    {
     "name": "stdout",
     "output_type": "stream",
     "text": [
      "* Running on local URL:  http://127.0.0.1:7861\n",
      "* To create a public link, set `share=True` in `launch()`.\n"
     ]
    },
    {
     "data": {
      "text/plain": [
       "<IPython.core.display.HTML object>"
      ],
      "text/html": [
       "<div><iframe src=\"http://127.0.0.1:7861/\" width=\"100%\" height=\"500\" allow=\"autoplay; camera; microphone; clipboard-read; clipboard-write;\" frameborder=\"0\" allowfullscreen></iframe></div>"
      ]
     },
     "metadata": {},
     "output_type": "display_data"
    },
    {
     "data": {
      "text/plain": []
     },
     "execution_count": 6,
     "metadata": {},
     "output_type": "execute_result"
    }
   ],
   "execution_count": 6
  }
 ],
 "metadata": {
  "kernelspec": {
   "display_name": "Python 3",
   "language": "python",
   "name": "python3"
  },
  "language_info": {
   "codemirror_mode": {
    "name": "ipython",
    "version": 2
   },
   "file_extension": ".py",
   "mimetype": "text/x-python",
   "name": "python",
   "nbconvert_exporter": "python",
   "pygments_lexer": "ipython2",
   "version": "2.7.6"
  }
 },
 "nbformat": 4,
 "nbformat_minor": 5
}
