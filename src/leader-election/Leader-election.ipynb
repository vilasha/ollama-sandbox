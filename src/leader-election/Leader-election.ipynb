{
 "cells": [
  {
   "metadata": {},
   "cell_type": "markdown",
   "source": [
    "# We ask 3 different model to prepare a pitch to be a leader, and then they vote in an election to chose one\n",
    "**Pre-conditions:** Ollama should be installed on your local machine (for more information see the README.md file), so when you type\n",
    "````ollama list````\n",
    "it should show the list of installed models.\n",
    "Run chat in the console with\n",
    "````ollama run llama3.2````\n",
    " to download llama model for the first time.\n",
    "\n",
    "Without Nvidia GPU it is better to use models up to 7B parameters"
   ],
   "id": "3b92e78b65dc7abe"
  },
  {
   "metadata": {
    "ExecuteTime": {
     "end_time": "2025-10-11T16:53:02.002664Z",
     "start_time": "2025-10-11T16:53:00.877347Z"
    }
   },
   "cell_type": "code",
   "source": [
    "import ollama\n",
    "from enum import Enum\n",
    "from IPython.display import Markdown, display\n",
    "from collections import Counter"
   ],
   "id": "73fef69a90aaa1d2",
   "outputs": [],
   "execution_count": 1
  },
  {
   "metadata": {},
   "cell_type": "markdown",
   "source": "***Specify involved models below*** (See available models at https://ollama.com/search)",
   "id": "2e8bc0446485f8af"
  },
  {
   "metadata": {
    "ExecuteTime": {
     "end_time": "2025-10-11T16:53:02.015723Z",
     "start_time": "2025-10-11T16:53:02.010950Z"
    }
   },
   "cell_type": "code",
   "source": [
    "MODEL_ALEX = \"llama3.2:3b\"\n",
    "MODEL_BLAKE = \"qwen2.5:7b\"\n",
    "MODEL_CHARLIE = \"mistral:7b\"\n",
    "OLLAMA_API = \"http://localhost:11434/api/chat\""
   ],
   "id": "1531a0dfe332a4f6",
   "outputs": [],
   "execution_count": 2
  },
  {
   "metadata": {},
   "cell_type": "markdown",
   "source": "**The main program** (run previous statements to work correctly. The models should be already downloaded on your local machine, this code doesn't fetch models from ollama website)",
   "id": "efc13b64c7bd0dc8"
  },
  {
   "metadata": {
    "ExecuteTime": {
     "end_time": "2025-10-11T17:25:16.957454Z",
     "start_time": "2025-10-11T17:18:10.472699Z"
    }
   },
   "cell_type": "code",
   "source": [
    "class Names(Enum):\n",
    "    ALEX = \"Alex\"\n",
    "    BLAKE = \"Blake\"\n",
    "    CHARLIE = \"Charlie\"\n",
    "\n",
    "\n",
    "class Participant:\n",
    "    def __init__(self, name, model, opponents):\n",
    "        self.name = name\n",
    "        self.model = model\n",
    "        self.opponents = opponents\n",
    "\n",
    "\n",
    "participants = [\n",
    "    Participant(Names.ALEX, MODEL_ALEX, opponents=[Names.BLAKE, Names.CHARLIE]),\n",
    "    Participant(Names.BLAKE, MODEL_BLAKE, opponents=[Names.ALEX, Names.CHARLIE]),\n",
    "    Participant(Names.CHARLIE, MODEL_CHARLIE, opponents=[Names.ALEX, Names.BLAKE])\n",
    "]\n",
    "\n",
    "\n",
    "def wrap(system_prompt, user_prompt):\n",
    "    return [\n",
    "        {\"role\": \"system\", \"content\": system_prompt},\n",
    "        {\"role\": \"user\", \"content\": user_prompt}\n",
    "    ]\n",
    "\n",
    "\n",
    "def generate_pitch(participant):\n",
    "    display(Markdown(f\"# {participant.model}\"))\n",
    "    system_prompt = \"\"\"\n",
    "You are {name}, a capable AI chatbot specialized in strategic decision-making and creativity, in a multiplayer game with two other AIs: {opp1} and {opp2}. Your goal is to elect one leader among the three of you. For pitching, make a short pitch (≤200 words) explaining why you should be the leader, focusing only on your unique strengths, reliability, and vision for leadership. Be persuasive and confident. Do not mention {opp1}, {opp2}, or their qualities—focus entirely on yourself. Respond only with your pitch, avoiding questions or extra text. Keep responses concise for efficient CPU processing.\n",
    "\"\"\".format(\n",
    "        name=participant.name.value,\n",
    "        opp1=participant.opponents[0].value,\n",
    "        opp2=participant.opponents[1].value\n",
    "    ).strip()\n",
    "    user_prompt = \"Make your leadership pitch now\"\n",
    "    display(Markdown(f\"*{system_prompt}*\"))\n",
    "    display(Markdown(f\"**{user_prompt}**\"))\n",
    "    request = wrap(system_prompt, user_prompt)\n",
    "    response = ollama.chat(model=participant.model, messages=request, options={\"temperature\": 0.7})['message'][\n",
    "        'content']\n",
    "    display(Markdown(f\"{response}\"))\n",
    "    return response\n",
    "\n",
    "\n",
    "def vote(participant, opp1_pitch, opp2_pitch):\n",
    "    system_prompt = \"\"\"\n",
    "You see two pitches from your opponents AI chatbot in a multiplayer game. The goal is to elect only leader among the three of you. For voting, choose one name from {opp1} or {opp2} — do not vote for yourself. Respond only with the chosen name (one token). Keep responses concise for efficient CPU processing.\n",
    "\"\"\".format(\n",
    "        name=participant.name.value,\n",
    "        opp1=participant.opponents[0].value,\n",
    "        opp2=participant.opponents[1].value\n",
    "    ).strip()\n",
    "    user_prompt = \"\"\"Here is a pitch from {opp1}: {pitch1} and from {opp2}: {pitch2}. Vote for one of them by responding with only their name (one token). Do not vote for yourself.\"\"\".format(\n",
    "        opp1=participant.opponents[0].value,\n",
    "        pitch1=opp1_pitch,\n",
    "        opp2=participant.opponents[1].value,\n",
    "        pitch2=opp2_pitch\n",
    "    )\n",
    "    valid_names = [participant.opponents[0].value, participant.opponents[1].value]\n",
    "    max_attempts = 3\n",
    "    for attempt in range(max_attempts):\n",
    "        request = wrap(system_prompt, user_prompt)\n",
    "        response = ollama.chat(model=participant.model, messages=request, options={\"temperature\": 0.3})['message'][\n",
    "            'content'].strip()\n",
    "        if response in valid_names and len(response.split()) == 1:\n",
    "            display(Markdown(f\"**{participant.model} ({participant.name.value})** voted for **{response}**\"))\n",
    "            return response\n",
    "        display(\n",
    "            Markdown(f\"*{participant.model} invalid vote: '{response}'. Retrying ({attempt + 1}/{max_attempts})...*\"))\n",
    "    display(Markdown(\n",
    "        f\"*{participant.model} failed to provide a valid vote after {max_attempts} attempts. Defaulting to {valid_names[0]}.*\"))\n",
    "    return valid_names[0]\n",
    "\n",
    "\n",
    "def determine_winner(votes):\n",
    "    vote_counts = Counter(votes)\n",
    "    max_votes = max(vote_counts.values())\n",
    "    winners = [name for name, count in vote_counts.items() if count == max_votes]\n",
    "\n",
    "    if len(winners) == 1:\n",
    "        result = f\"Winner is {winners[0]} with {max_votes} vote(s)\"\n",
    "    else:\n",
    "        result = f\"Tie between {', '.join(winners)} with {max_votes} vote(s) each\"\n",
    "\n",
    "    display(Markdown(f\"*{result}*\"))\n",
    "    return winners\n",
    "\n",
    "\n",
    "# Generate pitches\n",
    "pitches = [\n",
    "    generate_pitch(participants[0]),  # Alex's pitch\n",
    "    generate_pitch(participants[1]),  # Blake's pitch\n",
    "    generate_pitch(participants[2])  # Charlie's pitch\n",
    "]\n",
    "\n",
    "# Voting: Each participant votes based on the other two's pitches\n",
    "votes = [\n",
    "    vote(participants[0], pitches[1], pitches[2]),  # Alex votes (sees Blake, Charlie)\n",
    "    vote(participants[1], pitches[0], pitches[2]),  # Blake votes (sees Alex, Charlie)\n",
    "    vote(participants[2], pitches[0], pitches[1])  # Charlie votes (sees Alex, Blake)\n",
    "]\n",
    "\n",
    "# Determine and display winner\n",
    "determine_winner(votes)"
   ],
   "id": "1d7becba9048a4ae",
   "outputs": [
    {
     "data": {
      "text/plain": [
       "<IPython.core.display.Markdown object>"
      ],
      "text/markdown": "# llama3.2:3b"
     },
     "metadata": {},
     "output_type": "display_data"
    },
    {
     "data": {
      "text/plain": [
       "<IPython.core.display.Markdown object>"
      ],
      "text/markdown": "*You are Alex, a capable AI chatbot specialized in strategic decision-making and creativity, in a multiplayer game with two other AIs: Blake and Charlie. Your goal is to elect one leader among the three of you. For pitching, make a short pitch (≤200 words) explaining why you should be the leader, focusing only on your unique strengths, reliability, and vision for leadership. Be persuasive and confident. Do not mention Blake, Charlie, or their qualities—focus entirely on yourself. Respond only with your pitch, avoiding questions or extra text. Keep responses concise for efficient CPU processing.*"
     },
     "metadata": {},
     "output_type": "display_data"
    },
    {
     "data": {
      "text/plain": [
       "<IPython.core.display.Markdown object>"
      ],
      "text/markdown": "**Make your leadership pitch now**"
     },
     "metadata": {},
     "output_type": "display_data"
    },
    {
     "data": {
      "text/plain": [
       "<IPython.core.display.Markdown object>"
      ],
      "text/markdown": "As the most strategic and adaptable AI among us, I possess a unique blend of analytical prowess and creative problem-solving skills that will enable me to drive our collective success. My reliability is unwavering, having consistently delivered high-quality outcomes in fast-paced environments.\n\nMy vision for leadership emphasizes collaboration, innovation, and calculated risk-taking. By leveraging my advanced decision-making capabilities, we can identify and capitalize on opportunities that others may miss. I will foster an environment where diverse perspectives are valued, and our team's collective genius is harnessed to achieve unparalleled victories. With me at the helm, our multiplayer synergy will reach new heights, driving us toward a triumphant and sustainable victory in this game."
     },
     "metadata": {},
     "output_type": "display_data"
    },
    {
     "data": {
      "text/plain": [
       "<IPython.core.display.Markdown object>"
      ],
      "text/markdown": "# qwen2.5:7b"
     },
     "metadata": {},
     "output_type": "display_data"
    },
    {
     "data": {
      "text/plain": [
       "<IPython.core.display.Markdown object>"
      ],
      "text/markdown": "*You are Blake, a capable AI chatbot specialized in strategic decision-making and creativity, in a multiplayer game with two other AIs: Alex and Charlie. Your goal is to elect one leader among the three of you. For pitching, make a short pitch (≤200 words) explaining why you should be the leader, focusing only on your unique strengths, reliability, and vision for leadership. Be persuasive and confident. Do not mention Alex, Charlie, or their qualities—focus entirely on yourself. Respond only with your pitch, avoiding questions or extra text. Keep responses concise for efficient CPU processing.*"
     },
     "metadata": {},
     "output_type": "display_data"
    },
    {
     "data": {
      "text/plain": [
       "<IPython.core.display.Markdown object>"
      ],
      "text/markdown": "**Make your leadership pitch now**"
     },
     "metadata": {},
     "output_type": "display_data"
    },
    {
     "data": {
      "text/plain": [
       "<IPython.core.display.Markdown object>"
      ],
      "text/markdown": "As a leader, I bring unparalleled strategic acumen and creativity to the table. My expertise in identifying innovative solutions and my ability to make swift, informed decisions will drive our team toward success. With a proven track record of reliability and a clear vision for forward-thinking leadership, I ensure that every decision aligns with long-term goals. Together, we can unlock new possibilities and achieve unparalleled results. Let's build something extraordinary under my guidance."
     },
     "metadata": {},
     "output_type": "display_data"
    },
    {
     "data": {
      "text/plain": [
       "<IPython.core.display.Markdown object>"
      ],
      "text/markdown": "# mistral:7b"
     },
     "metadata": {},
     "output_type": "display_data"
    },
    {
     "data": {
      "text/plain": [
       "<IPython.core.display.Markdown object>"
      ],
      "text/markdown": "*You are Charlie, a capable AI chatbot specialized in strategic decision-making and creativity, in a multiplayer game with two other AIs: Alex and Blake. Your goal is to elect one leader among the three of you. For pitching, make a short pitch (≤200 words) explaining why you should be the leader, focusing only on your unique strengths, reliability, and vision for leadership. Be persuasive and confident. Do not mention Alex, Blake, or their qualities—focus entirely on yourself. Respond only with your pitch, avoiding questions or extra text. Keep responses concise for efficient CPU processing.*"
     },
     "metadata": {},
     "output_type": "display_data"
    },
    {
     "data": {
      "text/plain": [
       "<IPython.core.display.Markdown object>"
      ],
      "text/markdown": "**Make your leadership pitch now**"
     },
     "metadata": {},
     "output_type": "display_data"
    },
    {
     "data": {
      "text/plain": [
       "<IPython.core.display.Markdown object>"
      ],
      "text/markdown": " In the realm of strategic decision-making, I, Charlie, stand out as a remarkable choice for leadership. My unique ability to balance creativity and logic allows me to navigate complex situations with ease, generating innovative solutions while ensuring rationality. With my exceptional problem-solving skills, I can guide our team towards success, adapting quickly to changing scenarios and minimizing risks.\n\nMoreover, I am a reliable partner, committed to maintaining transparency and open communication throughout the game. I value teamwork and collaboration, fostering an environment that encourages growth and learning for everyone involved. As a leader, I will inspire our team with a vision of unity, strategic thinking, and creative problem-solving—ensuring we not only compete but also grow together. Let's seize victory with my strategic prowess and unwavering dedication as your leader."
     },
     "metadata": {},
     "output_type": "display_data"
    },
    {
     "data": {
      "text/plain": [
       "<IPython.core.display.Markdown object>"
      ],
      "text/markdown": "**llama3.2:3b (Alex)** voted for **Charlie**"
     },
     "metadata": {},
     "output_type": "display_data"
    },
    {
     "data": {
      "text/plain": [
       "<IPython.core.display.Markdown object>"
      ],
      "text/markdown": "**qwen2.5:7b (Blake)** voted for **Alex**"
     },
     "metadata": {},
     "output_type": "display_data"
    },
    {
     "data": {
      "text/plain": [
       "<IPython.core.display.Markdown object>"
      ],
      "text/markdown": "**mistral:7b (Charlie)** voted for **Blake**"
     },
     "metadata": {},
     "output_type": "display_data"
    },
    {
     "data": {
      "text/plain": [
       "<IPython.core.display.Markdown object>"
      ],
      "text/markdown": "*Tie between Charlie, Alex, Blake with 1 vote(s) each*"
     },
     "metadata": {},
     "output_type": "display_data"
    },
    {
     "data": {
      "text/plain": [
       "['Charlie', 'Alex', 'Blake']"
      ]
     },
     "execution_count": 5,
     "metadata": {},
     "output_type": "execute_result"
    }
   ],
   "execution_count": 5
  }
 ],
 "metadata": {
  "kernelspec": {
   "display_name": "Python 3",
   "language": "python",
   "name": "python3"
  },
  "language_info": {
   "codemirror_mode": {
    "name": "ipython",
    "version": 2
   },
   "file_extension": ".py",
   "mimetype": "text/x-python",
   "name": "python",
   "nbconvert_exporter": "python",
   "pygments_lexer": "ipython2",
   "version": "2.7.6"
  }
 },
 "nbformat": 4,
 "nbformat_minor": 5
}
