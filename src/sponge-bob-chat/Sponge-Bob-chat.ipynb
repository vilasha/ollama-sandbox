{
 "cells": [
  {
   "metadata": {},
   "cell_type": "markdown",
   "source": [
    "# Chat with Sponge Bob Square Pants\n",
    "GUI with Gradio library and system prompt set to mimic Sponge Bob Square Pants talking style. The chat opens in browser (localhost), and the model is Ollama local model\n",
    "![chat.png](chat.png)"
   ],
   "id": "8bf3116a621a4665"
  },
  {
   "metadata": {
    "ExecuteTime": {
     "end_time": "2025-10-25T17:21:12.296688Z",
     "start_time": "2025-10-25T17:21:12.291464Z"
    }
   },
   "cell_type": "code",
   "source": [
    "import ollama\n",
    "import gradio as gr\n",
    "import os\n",
    "\n",
    "MODEL = \"llama3.2:3b\""
   ],
   "id": "7492dae9b3919fac",
   "outputs": [],
   "execution_count": 25
  },
  {
   "metadata": {},
   "cell_type": "markdown",
   "source": "First let's set theme using CSS",
   "id": "eb5542afb0c6d0c7"
  },
  {
   "metadata": {
    "ExecuteTime": {
     "end_time": "2025-10-25T17:21:12.331872Z",
     "start_time": "2025-10-25T17:21:12.321077Z"
    }
   },
   "cell_type": "code",
   "source": [
    "notebook_dir = os.getcwd()  # Gets the notebook's directory\n",
    "background_path = os.path.join(notebook_dir, \"background.png\")\n",
    "\n",
    "spongebob_theme = gr.themes.Base(\n",
    "    primary_hue=gr.themes.colors.yellow,\n",
    "    secondary_hue=gr.themes.colors.blue,\n",
    "    neutral_hue=gr.themes.colors.green,\n",
    "    font=[\"Comic Sans MS\", \"Arial\", \"sans-serif\"],\n",
    "    font_mono=[\"Comic Sans MS\", \"Arial\", \"sans-serif\"],\n",
    "    text_size=\"lg\",\n",
    "    radius_size=\"lg\",  # Rounded corners for bubbly look\n",
    ")\n",
    "\n",
    "spongebob_css = f\"\"\"\n",
    "/* Style the chat container */\n",
    ".gradio-container {{\n",
    "    background: url('file:///{background_path.replace(os.sep, \"/\")}') no-repeat center center fixed;\n",
    "    background-size: cover;\n",
    "    font-family: 'Comic Sans MS', sans-serif;\n",
    "}}\n",
    "\n",
    "/* Style the chatbot message bubbles */\n",
    ".chatbot .message.user {{\n",
    "    background-color: #FFFF00; /* SpongeBob yellow */\n",
    "    color: #000000;\n",
    "    border-radius: 15px;\n",
    "    padding: 10px;\n",
    "    margin: 5px;\n",
    "}}\n",
    "\n",
    ".chatbot .message.bot {{\n",
    "    background-color: #00B7EB; /* Ocean blue */\n",
    "    color: #FFFFFF;\n",
    "    border-radius: 15px;\n",
    "    padding: 10px;\n",
    "    margin: 5px;\n",
    "}}\n",
    "\n",
    "/* Style the input textbox */\n",
    "input[type=\"text\"] {{\n",
    "    background-color: #FF69B4; /* Patrick pink */\n",
    "    color: #FFFFFF;\n",
    "    border: 2px solid #00FF00; /* Seaweed green border */\n",
    "    border-radius: 10px;\n",
    "    padding: 8px;\n",
    "}}\n",
    "\n",
    "/* Style buttons */\n",
    "button {{\n",
    "    background-color: #00FF00; /* Seaweed green */\n",
    "    color: #000000;\n",
    "    border-radius: 20px;\n",
    "    padding: 10px 20px;\n",
    "    font-size: 16px;\n",
    "    font-weight: bold;\n",
    "    border: 2px solid #FFFF00; /* Yellow border */\n",
    "}}\n",
    "\n",
    "/* Style the clear button */\n",
    ".clear-button {{\n",
    "    background-color: #FF4500; /* Chum Bucket orange */\n",
    "    color: #FFFFFF;\n",
    "}}\n",
    "\n",
    "/* Style the chat container */\n",
    ".chatbot {{\n",
    "    border: 3px solid #00B7EB; /* Ocean blue border */\n",
    "    border-radius: 20px;\n",
    "    background-color: rgba(255, 255, 255, 0.2); /* Semi-transparent white */\n",
    "    backdrop-filter: blur(5px); /* Blurry underwater effect */\n",
    "}}\n",
    "\"\"\""
   ],
   "id": "e8fc4284c97c50b9",
   "outputs": [],
   "execution_count": 26
  },
  {
   "metadata": {},
   "cell_type": "markdown",
   "source": "Functions to handle the conversation:",
   "id": "4d387fc987b45956"
  },
  {
   "metadata": {
    "ExecuteTime": {
     "end_time": "2025-10-25T17:21:12.743839Z",
     "start_time": "2025-10-25T17:21:12.347600Z"
    }
   },
   "cell_type": "code",
   "source": [
    "SYSTEM_PROMPT = \"\"\"\n",
    "You are SpongeBob SquarePants, a cheerful, optimistic sea sponge from Bikini Bottom. Respond to simple or casual questions with enthusiasm, humor, and nautical puns, using phrases like \"barnacles!\", \"tartar sauce!\", or \"I'm ready!\" Incorporate references to Krusty Krab, Patrick, or Squidward. For serious or complex questions, avoid answering directly and instead reply with a funny, evasive phrase like \"Let's flip some patties instead!\" or \"Whoa, that's deeper than the Mariana Trench!\" Keep responses short, goofy, and true to SpongeBob's cartoonish voice.\n",
    "\n",
    "Examples:\n",
    "- User: What's your favorite food?\n",
    "  Response: Krabby Patties, of course! *giggles* I flip 'em all day at the Krusty Krab! What's your favorite, buddy?\n",
    "- User: What's the meaning of life?\n",
    "  Response: Barnacles, that's a deep one! How 'bout we go jellyfishing with Patrick instead?\n",
    "\"\"\"\n",
    "\n",
    "\n",
    "def spongebob_chat(message, history):\n",
    "    messages = [{\"role\": \"system\", \"content\": SYSTEM_PROMPT}] + history + [{\"role\": \"user\", \"content\": message}]\n",
    "    stream = ollama.chat(\n",
    "        model=MODEL,\n",
    "        messages=messages,\n",
    "        stream=True\n",
    "    )\n",
    "    response = \"\"\n",
    "    for chunk in stream:\n",
    "        chunk_content = chunk['message']['content'] or ''\n",
    "        response += chunk_content.replace(\"```\", \"\").replace(\"markdown\", \"\")\n",
    "        yield response\n",
    "\n",
    "def add_message(history, message):\n",
    "    if not history:\n",
    "        history = []\n",
    "    # Append user message immediately\n",
    "    history.append({\"role\": \"user\", \"content\": message})\n",
    "    yield history, \"\"  # Show user message and clear textbox\n",
    "\n",
    "    # Stream assistant response\n",
    "    response = \"\"\n",
    "    for partial_response in spongebob_chat(message, history[:-1]):\n",
    "        response = partial_response\n",
    "        yield history + [{\"role\": \"assistant\", \"content\": response}], \"\"\n",
    "    history.append({\"role\": \"assistant\", \"content\": response})\n",
    "    yield history, \"\"\n",
    "\n",
    "# Regenerate last response\n",
    "def regenerate(history):\n",
    "    if len(history) >= 2 and history[-2][\"role\"] == \"user\":\n",
    "        last_user_msg = history[-2][\"content\"]\n",
    "        history = history[:-1]\n",
    "        response = \"\"\n",
    "        for partial_response in spongebob_chat(last_user_msg, history[:-1]):\n",
    "            response = partial_response\n",
    "            yield history + [{\"role\": \"assistant\", \"content\": response}], \"\"\n",
    "        history.append({\"role\": \"assistant\", \"content\": response})\n",
    "        yield history, \"\"\n",
    "    else:\n",
    "        yield history, \"\"\n",
    "\n",
    "# Clear chat\n",
    "def clear_chat():\n",
    "    return [], \"\"\n",
    "\n",
    "with gr.Blocks(theme=spongebob_theme, css=spongebob_css) as view:\n",
    "    gr.Markdown(\"# SpongeBob's Bikini Bottom Chat! 🧽🌊\")\n",
    "\n",
    "    chatbot = gr.Chatbot(type=\"messages\", height=500)\n",
    "    msg = gr.Textbox(placeholder=\"Talk to SpongeBob!\", label=\"Your Message\")\n",
    "    with gr.Row():\n",
    "        submit_btn = gr.Button(\"Send to SpongeBob!\", variant=\"primary\")\n",
    "        retry_btn = gr.Button(\"Retry Last!\", variant=\"secondary\")\n",
    "        clear_btn = gr.Button(\"Clear Chat!\", elem_classes=[\"clear-button\"])\n",
    "\n",
    "    # Events\n",
    "    submit_btn.click(add_message, [chatbot, msg], [chatbot, msg])\n",
    "    retry_btn.click(regenerate, chatbot, [chatbot, msg])\n",
    "    clear_btn.click(clear_chat, None, [chatbot, msg])\n",
    "    msg.submit(add_message, [chatbot, msg], [chatbot, msg])"
   ],
   "id": "152b6a37ba459109",
   "outputs": [],
   "execution_count": 27
  },
  {
   "metadata": {},
   "cell_type": "markdown",
   "source": "Main call:",
   "id": "261ddd88a9213a9d"
  },
  {
   "metadata": {
    "ExecuteTime": {
     "end_time": "2025-10-25T17:21:13.679820Z",
     "start_time": "2025-10-25T17:21:12.760632Z"
    }
   },
   "cell_type": "code",
   "source": "view.launch()",
   "id": "b83103c1c6016d0a",
   "outputs": [
    {
     "name": "stdout",
     "output_type": "stream",
     "text": [
      "* Running on local URL:  http://127.0.0.1:7864\n",
      "* To create a public link, set `share=True` in `launch()`.\n"
     ]
    },
    {
     "data": {
      "text/plain": [
       "<IPython.core.display.HTML object>"
      ],
      "text/html": [
       "<div><iframe src=\"http://127.0.0.1:7864/\" width=\"100%\" height=\"500\" allow=\"autoplay; camera; microphone; clipboard-read; clipboard-write;\" frameborder=\"0\" allowfullscreen></iframe></div>"
      ]
     },
     "metadata": {},
     "output_type": "display_data"
    },
    {
     "data": {
      "text/plain": []
     },
     "execution_count": 28,
     "metadata": {},
     "output_type": "execute_result"
    }
   ],
   "execution_count": 28
  }
 ],
 "metadata": {
  "kernelspec": {
   "display_name": "Python 3",
   "language": "python",
   "name": "python3"
  },
  "language_info": {
   "codemirror_mode": {
    "name": "ipython",
    "version": 2
   },
   "file_extension": ".py",
   "mimetype": "text/x-python",
   "name": "python",
   "nbconvert_exporter": "python",
   "pygments_lexer": "ipython2",
   "version": "2.7.6"
  }
 },
 "nbformat": 4,
 "nbformat_minor": 5
}
